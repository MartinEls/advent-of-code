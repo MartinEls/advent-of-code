{
 "cells": [
  {
   "cell_type": "markdown",
   "metadata": {},
   "source": [
    "## Part 1"
   ]
  },
  {
   "cell_type": "code",
   "execution_count": 3,
   "metadata": {},
   "outputs": [],
   "source": [
    "def has_3_vovels(word):\n",
    "    vovels = \"aeiou\"\n",
    "    count = 0\n",
    "    for letter in word:\n",
    "        if letter in vovels:\n",
    "            count += 1\n",
    "    return count >= 3"
   ]
  },
  {
   "cell_type": "code",
   "execution_count": 4,
   "metadata": {},
   "outputs": [],
   "source": [
    "def contains_double_letter(word):\n",
    "    for i in range(len(word) - 1):\n",
    "        if word[i] == word[i + 1]:\n",
    "            return True\n",
    "    return False"
   ]
  },
  {
   "cell_type": "code",
   "execution_count": 5,
   "metadata": {},
   "outputs": [],
   "source": [
    "def does_not_contain_forbidden_substrings(word):\n",
    "    forbidden = [\"ab\", \"cd\", \"pq\", \"xy\"]\n",
    "    for substring in forbidden:\n",
    "        if substring in word:\n",
    "            return False\n",
    "    return True"
   ]
  },
  {
   "cell_type": "code",
   "execution_count": 6,
   "metadata": {},
   "outputs": [],
   "source": [
    "def is_nice(word):\n",
    "    return has_3_vovels(word) and contains_double_letter(word) and does_not_contain_forbidden_substrings(word)"
   ]
  },
  {
   "cell_type": "code",
   "execution_count": 9,
   "metadata": {},
   "outputs": [],
   "source": [
    "test = [\"ugknbfddgicrmopn\", \"aaa\", \"jchzalrnumimnmhp\", \"haegwjzuvuyypxyu\", \"dvszwmarrgswjxmb\"]"
   ]
  },
  {
   "cell_type": "code",
   "execution_count": 10,
   "metadata": {},
   "outputs": [
    {
     "name": "stdout",
     "output_type": "stream",
     "text": [
      "checking 'ugknbfddgicrmopn': True\n",
      "checking 'aaa': True\n",
      "checking 'jchzalrnumimnmhp': False\n",
      "checking 'haegwjzuvuyypxyu': False\n",
      "checking 'dvszwmarrgswjxmb': False\n"
     ]
    }
   ],
   "source": [
    "for word in test:\n",
    "    print(f\"checking '{word}': {is_nice(word)}\")"
   ]
  },
  {
   "cell_type": "code",
   "execution_count": 11,
   "metadata": {},
   "outputs": [],
   "source": [
    "def check_list(words):\n",
    "    count = 0\n",
    "    for word in words:\n",
    "        if is_nice(word):\n",
    "            count += 1\n",
    "    return count"
   ]
  },
  {
   "cell_type": "code",
   "execution_count": 12,
   "metadata": {},
   "outputs": [
    {
     "data": {
      "text/plain": [
       "2"
      ]
     },
     "execution_count": 12,
     "metadata": {},
     "output_type": "execute_result"
    }
   ],
   "source": [
    "check_list(test)"
   ]
  },
  {
   "cell_type": "code",
   "execution_count": 13,
   "metadata": {},
   "outputs": [],
   "source": [
    "def part1(filename):\n",
    "    with open(filename) as f:\n",
    "        data = f.read().strip().splitlines()\n",
    "    return check_list(data)"
   ]
  },
  {
   "cell_type": "code",
   "execution_count": 14,
   "metadata": {},
   "outputs": [
    {
     "data": {
      "text/plain": [
       "258"
      ]
     },
     "execution_count": 14,
     "metadata": {},
     "output_type": "execute_result"
    }
   ],
   "source": [
    "part1('data/day05.txt')"
   ]
  },
  {
   "cell_type": "code",
   "execution_count": null,
   "metadata": {},
   "outputs": [],
   "source": []
  }
 ],
 "metadata": {
  "kernelspec": {
   "display_name": ".venv",
   "language": "python",
   "name": "python3"
  },
  "language_info": {
   "codemirror_mode": {
    "name": "ipython",
    "version": 3
   },
   "file_extension": ".py",
   "mimetype": "text/x-python",
   "name": "python",
   "nbconvert_exporter": "python",
   "pygments_lexer": "ipython3",
   "version": "3.12.5"
  }
 },
 "nbformat": 4,
 "nbformat_minor": 2
}
