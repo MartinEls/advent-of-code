{
 "cells": [
  {
   "cell_type": "code",
   "execution_count": 3,
   "metadata": {},
   "outputs": [],
   "source": [
    "def get_addresses(directions):\n",
    "    addresses = ['0,0']\n",
    "    x = 0\n",
    "    y = 0\n",
    "    for direction in directions:\n",
    "        if direction == '>':\n",
    "            x += 1\n",
    "        elif direction == '<':\n",
    "            x -= 1\n",
    "        elif direction == '^':\n",
    "            y += 1\n",
    "        elif direction == 'v':\n",
    "            y -= 1\n",
    "\n",
    "        addresses.append(f'{x},{y}')\n",
    "    return addresses"
   ]
  },
  {
   "cell_type": "code",
   "execution_count": 5,
   "metadata": {},
   "outputs": [
    {
     "name": "stdout",
     "output_type": "stream",
     "text": [
      "['0,0', '1,0']\n",
      "2\n",
      "['0,0', '0,1', '1,1', '1,0', '0,0']\n",
      "4\n",
      "['0,0', '0,1', '0,0', '0,1', '0,0', '0,1', '0,0', '0,1', '0,0', '0,1', '0,0']\n",
      "2\n"
     ]
    }
   ],
   "source": [
    "test = ['>', '^>v<', '^v^v^v^v^v']\n",
    "for t in test:\n",
    "    routes = get_addresses(t)\n",
    "    print(routes)\n",
    "    print(len(set(routes)))"
   ]
  },
  {
   "cell_type": "code",
   "execution_count": 6,
   "metadata": {},
   "outputs": [],
   "source": [
    "def part1():\n",
    "    with open('data/day03.txt') as f:\n",
    "        directions = f.read().strip()\n",
    "        routes = get_addresses(directions)\n",
    "        print(len(set(routes)))"
   ]
  },
  {
   "cell_type": "code",
   "execution_count": 7,
   "metadata": {},
   "outputs": [
    {
     "name": "stdout",
     "output_type": "stream",
     "text": [
      "2572\n"
     ]
    }
   ],
   "source": [
    "part1()"
   ]
  },
  {
   "cell_type": "markdown",
   "metadata": {},
   "source": [
    "## Part 2"
   ]
  },
  {
   "cell_type": "code",
   "execution_count": null,
   "metadata": {},
   "outputs": [],
   "source": []
  }
 ],
 "metadata": {
  "kernelspec": {
   "display_name": ".venv",
   "language": "python",
   "name": "python3"
  },
  "language_info": {
   "codemirror_mode": {
    "name": "ipython",
    "version": 3
   },
   "file_extension": ".py",
   "mimetype": "text/x-python",
   "name": "python",
   "nbconvert_exporter": "python",
   "pygments_lexer": "ipython3",
   "version": "3.12.5"
  }
 },
 "nbformat": 4,
 "nbformat_minor": 2
}
