{
 "cells": [
  {
   "cell_type": "markdown",
   "metadata": {},
   "source": [
    "## Part 1"
   ]
  },
  {
   "cell_type": "code",
   "execution_count": 2,
   "metadata": {},
   "outputs": [],
   "source": [
    "import hashlib"
   ]
  },
  {
   "cell_type": "code",
   "execution_count": 4,
   "metadata": {},
   "outputs": [
    {
     "name": "stdout",
     "output_type": "stream",
     "text": [
      "000001dbbfa3a5c83a2d506429c7b00e\n"
     ]
    }
   ],
   "source": [
    "text = \"abcdef609043\"\n",
    "md5_hash = hashlib.md5(text.encode()).hexdigest()\n",
    "print(md5_hash) "
   ]
  },
  {
   "cell_type": "code",
   "execution_count": null,
   "metadata": {},
   "outputs": [],
   "source": [
    "def find_hash(text):\n",
    "    i = 0\n",
    "    while True:\n",
    "        md5_hash = hashlib.md5((text + str(i)).encode()).hexdigest()\n",
    "        if md5_hash[:5] == \"00000\":\n",
    "            return i\n",
    "        i += 1"
   ]
  },
  {
   "cell_type": "code",
   "execution_count": 6,
   "metadata": {},
   "outputs": [],
   "source": [
    "def part1(text):\n",
    "    print(find_hash(text))"
   ]
  },
  {
   "cell_type": "code",
   "execution_count": 7,
   "metadata": {},
   "outputs": [
    {
     "name": "stdout",
     "output_type": "stream",
     "text": [
      "609043\n"
     ]
    }
   ],
   "source": [
    "part1(\"abcdef\")"
   ]
  },
  {
   "cell_type": "code",
   "execution_count": 8,
   "metadata": {},
   "outputs": [
    {
     "name": "stdout",
     "output_type": "stream",
     "text": [
      "1048970\n"
     ]
    }
   ],
   "source": [
    "part1(\"pqrstuv\")"
   ]
  },
  {
   "cell_type": "code",
   "execution_count": 9,
   "metadata": {},
   "outputs": [
    {
     "name": "stdout",
     "output_type": "stream",
     "text": [
      "117946\n"
     ]
    }
   ],
   "source": [
    "part1(\"ckczppom\")"
   ]
  },
  {
   "cell_type": "markdown",
   "metadata": {},
   "source": [
    "## Part 2"
   ]
  },
  {
   "cell_type": "code",
   "execution_count": 11,
   "metadata": {},
   "outputs": [],
   "source": [
    "def find_hash(text):\n",
    "    i = 0\n",
    "    while True:\n",
    "        md5_hash = hashlib.md5((text + str(i)).encode()).hexdigest()\n",
    "        if md5_hash.startswith('000000'):\n",
    "            return i\n",
    "        i += 1"
   ]
  },
  {
   "cell_type": "code",
   "execution_count": 12,
   "metadata": {},
   "outputs": [
    {
     "name": "stdout",
     "output_type": "stream",
     "text": [
      "3938038\n"
     ]
    }
   ],
   "source": [
    "print(find_hash(\"ckczppom\"))"
   ]
  }
 ],
 "metadata": {
  "kernelspec": {
   "display_name": ".venv",
   "language": "python",
   "name": "python3"
  },
  "language_info": {
   "codemirror_mode": {
    "name": "ipython",
    "version": 3
   },
   "file_extension": ".py",
   "mimetype": "text/x-python",
   "name": "python",
   "nbconvert_exporter": "python",
   "pygments_lexer": "ipython3",
   "version": "3.12.5"
  }
 },
 "nbformat": 4,
 "nbformat_minor": 2
}
