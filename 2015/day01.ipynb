{
 "cells": [
  {
   "cell_type": "code",
   "execution_count": 5,
   "metadata": {},
   "outputs": [],
   "source": [
    "def parantesis2num(s):\n",
    "    splitted = [c for c in s]\n",
    "    open = splitted.count('(')\n",
    "    close = splitted.count(')')\n",
    "    return open - close"
   ]
  },
  {
   "cell_type": "code",
   "execution_count": 6,
   "metadata": {},
   "outputs": [],
   "source": [
    "def part1(filename):\n",
    "    with open(filename) as f:\n",
    "        data = f.read().strip().splitlines()\n",
    "\n",
    "    for line in data:\n",
    "        print(parantesis2num(line))"
   ]
  },
  {
   "cell_type": "code",
   "execution_count": 7,
   "metadata": {},
   "outputs": [
    {
     "name": "stdout",
     "output_type": "stream",
     "text": [
      "74\n"
     ]
    }
   ],
   "source": [
    "part1('data/day01.txt')"
   ]
  },
  {
   "cell_type": "markdown",
   "metadata": {},
   "source": [
    "## Part 2"
   ]
  },
  {
   "cell_type": "code",
   "execution_count": 11,
   "metadata": {},
   "outputs": [],
   "source": [
    "def get_current_floor(s):\n",
    "    splitted = [c for c in s]\n",
    "    floor = 0\n",
    "    current_floor = []\n",
    "    for c in splitted:\n",
    "        if c == '(':\n",
    "            floor += 1\n",
    "        elif c == ')':\n",
    "            floor -= 1\n",
    "        current_floor.append(floor)\n",
    "    return current_floor"
   ]
  },
  {
   "cell_type": "code",
   "execution_count": 12,
   "metadata": {},
   "outputs": [],
   "source": [
    "# find the first occurence of -1 in a list\n",
    "def find_first_occurence(lst, value):\n",
    "    for i, v in enumerate(lst):\n",
    "        if v == value:\n",
    "            return i+1"
   ]
  },
  {
   "cell_type": "code",
   "execution_count": 14,
   "metadata": {},
   "outputs": [],
   "source": [
    "def part2(filename):\n",
    "    with open(filename) as f:\n",
    "        data = f.read().strip()\n",
    "\n",
    "    floor_list = get_current_floor(data)\n",
    "\n",
    "    return find_first_occurence(floor_list, -1)"
   ]
  },
  {
   "cell_type": "code",
   "execution_count": 15,
   "metadata": {},
   "outputs": [
    {
     "data": {
      "text/plain": [
       "1795"
      ]
     },
     "execution_count": 15,
     "metadata": {},
     "output_type": "execute_result"
    }
   ],
   "source": [
    "part2('data/day01.txt')"
   ]
  },
  {
   "cell_type": "code",
   "execution_count": null,
   "metadata": {},
   "outputs": [],
   "source": []
  }
 ],
 "metadata": {
  "kernelspec": {
   "display_name": ".venv",
   "language": "python",
   "name": "python3"
  },
  "language_info": {
   "codemirror_mode": {
    "name": "ipython",
    "version": 3
   },
   "file_extension": ".py",
   "mimetype": "text/x-python",
   "name": "python",
   "nbconvert_exporter": "python",
   "pygments_lexer": "ipython3",
   "version": "3.12.5"
  }
 },
 "nbformat": 4,
 "nbformat_minor": 2
}
