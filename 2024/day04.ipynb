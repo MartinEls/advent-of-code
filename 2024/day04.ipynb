{
 "cells": [
  {
   "cell_type": "markdown",
   "metadata": {},
   "source": [
    "# Part 1"
   ]
  },
  {
   "cell_type": "code",
   "execution_count": 3,
   "metadata": {},
   "outputs": [],
   "source": [
    "def read_file(filename):\n",
    "    data = []\n",
    "    with open(filename, 'r') as f:\n",
    "        lines = f.read().splitlines()\n",
    "        for line in lines:\n",
    "            #split string in characters\n",
    "            data.append([char for char in line])\n",
    "    return data"
   ]
  },
  {
   "cell_type": "code",
   "execution_count": 10,
   "metadata": {},
   "outputs": [],
   "source": [
    "def get_all_diagonals(grid):\n",
    "    \"\"\"\n",
    "    Get all possible diagonals from a grid in a single list.\n",
    "    Includes both main diagonals (top-left to bottom-right) and\n",
    "    counter-diagonals (top-right to bottom-left).\n",
    "    \n",
    "    Args:\n",
    "        grid (List[List]): Input grid as list of lists\n",
    "        \n",
    "    Returns:\n",
    "        list: List of all diagonals\n",
    "    \"\"\"\n",
    "    if not grid or not grid[0]:\n",
    "        return []\n",
    "        \n",
    "    rows = len(grid)\n",
    "    cols = len(grid[0])\n",
    "    all_diagonals = []\n",
    "    \n",
    "    # Get main diagonals (top-left to bottom-right)\n",
    "    # Start from leftmost column, moving up\n",
    "    for start_row in range(rows-1, -1, -1):\n",
    "        diagonal = []\n",
    "        r, c = start_row, 0\n",
    "        while r < rows and c < cols:\n",
    "            diagonal.append(grid[r][c])\n",
    "            r += 1\n",
    "            c += 1\n",
    "        if len(diagonal) > 1:\n",
    "            all_diagonals.append(diagonal)\n",
    "    \n",
    "    # Start from top row, moving right\n",
    "    for start_col in range(1, cols):\n",
    "        diagonal = []\n",
    "        r, c = 0, start_col\n",
    "        while r < rows and c < cols:\n",
    "            diagonal.append(grid[r][c])\n",
    "            r += 1\n",
    "            c += 1\n",
    "        if len(diagonal) > 1:\n",
    "            all_diagonals.append(diagonal)\n",
    "    \n",
    "    # Get counter-diagonals (top-right to bottom-left)\n",
    "    # Start from rightmost column, moving up\n",
    "    for start_row in range(rows-1, -1, -1):\n",
    "        diagonal = []\n",
    "        r, c = start_row, cols-1\n",
    "        while r < rows and c >= 0:\n",
    "            diagonal.append(grid[r][c])\n",
    "            r += 1\n",
    "            c -= 1\n",
    "        if len(diagonal) > 1:\n",
    "            all_diagonals.append(diagonal)\n",
    "    \n",
    "    # Start from top row, moving left\n",
    "    for start_col in range(cols-2, -1, -1):\n",
    "        diagonal = []\n",
    "        r, c = 0, start_col\n",
    "        while r < rows and c >= 0:\n",
    "            diagonal.append(grid[r][c])\n",
    "            r += 1\n",
    "            c -= 1\n",
    "        if len(diagonal) > 1:\n",
    "            all_diagonals.append(diagonal)\n",
    "    \n",
    "    return all_diagonals"
   ]
  },
  {
   "cell_type": "code",
   "execution_count": 15,
   "metadata": {},
   "outputs": [],
   "source": [
    "diagonals = get_all_diagonals(grid)"
   ]
  },
  {
   "cell_type": "code",
   "execution_count": 12,
   "metadata": {},
   "outputs": [
    {
     "data": {
      "text/plain": [
       "[['M', 'M', 'M', 'S', 'X', 'X', 'M', 'A', 'S', 'M'],\n",
       " ['M', 'S', 'A', 'M', 'X', 'M', 'S', 'M', 'S', 'A'],\n",
       " ['A', 'M', 'X', 'S', 'X', 'M', 'A', 'A', 'M', 'M'],\n",
       " ['M', 'S', 'A', 'M', 'A', 'S', 'M', 'S', 'M', 'X'],\n",
       " ['X', 'M', 'A', 'S', 'A', 'M', 'X', 'A', 'M', 'M'],\n",
       " ['X', 'X', 'A', 'M', 'M', 'X', 'X', 'A', 'M', 'A'],\n",
       " ['S', 'M', 'S', 'M', 'S', 'A', 'S', 'X', 'S', 'S'],\n",
       " ['S', 'A', 'X', 'A', 'M', 'A', 'S', 'A', 'A', 'A'],\n",
       " ['M', 'A', 'M', 'M', 'M', 'X', 'M', 'M', 'M', 'M'],\n",
       " ['M', 'X', 'M', 'X', 'A', 'X', 'M', 'A', 'S', 'X']]"
      ]
     },
     "execution_count": 12,
     "metadata": {},
     "output_type": "execute_result"
    }
   ],
   "source": [
    "grid = read_file('data/test04.txt')\n",
    "grid"
   ]
  },
  {
   "cell_type": "code",
   "execution_count": 14,
   "metadata": {},
   "outputs": [
    {
     "data": {
      "text/plain": [
       "[['M', 'M', 'A', 'M', 'X', 'X', 'S', 'S', 'M', 'M'],\n",
       " ['M', 'S', 'M', 'S', 'M', 'X', 'M', 'A', 'A', 'X'],\n",
       " ['M', 'A', 'X', 'A', 'A', 'A', 'S', 'X', 'M', 'M'],\n",
       " ['S', 'M', 'S', 'M', 'S', 'M', 'M', 'A', 'M', 'X'],\n",
       " ['X', 'X', 'X', 'A', 'A', 'M', 'S', 'M', 'M', 'A'],\n",
       " ['X', 'M', 'M', 'S', 'M', 'X', 'A', 'A', 'X', 'X'],\n",
       " ['M', 'S', 'A', 'M', 'X', 'X', 'S', 'S', 'M', 'M'],\n",
       " ['A', 'M', 'A', 'S', 'A', 'A', 'X', 'A', 'M', 'A'],\n",
       " ['S', 'S', 'M', 'M', 'M', 'M', 'S', 'A', 'M', 'S'],\n",
       " ['M', 'A', 'M', 'X', 'M', 'A', 'S', 'A', 'M', 'X']]"
      ]
     },
     "execution_count": 14,
     "metadata": {},
     "output_type": "execute_result"
    }
   ],
   "source": [
    "columns = list(map(list, zip(*grid)))\n",
    "columns"
   ]
  },
  {
   "cell_type": "code",
   "execution_count": 16,
   "metadata": {},
   "outputs": [
    {
     "data": {
      "text/plain": [
       "[['M', 'X'],\n",
       " ['S', 'A', 'M'],\n",
       " ['S', 'A', 'M', 'X'],\n",
       " ['X', 'M', 'X', 'M', 'A'],\n",
       " ['X', 'X', 'S', 'A', 'M', 'X'],\n",
       " ['M', 'M', 'A', 'M', 'M', 'X', 'M'],\n",
       " ['A', 'S', 'A', 'M', 'S', 'A', 'M', 'A'],\n",
       " ['M', 'M', 'A', 'S', 'M', 'A', 'S', 'M', 'S'],\n",
       " ['M', 'S', 'X', 'M', 'A', 'X', 'S', 'A', 'M', 'X'],\n",
       " ['M', 'A', 'S', 'A', 'M', 'X', 'X', 'A', 'M'],\n",
       " ['M', 'M', 'X', 'S', 'X', 'A', 'S', 'A'],\n",
       " ['S', 'X', 'M', 'M', 'A', 'M', 'S'],\n",
       " ['X', 'M', 'A', 'S', 'M', 'A'],\n",
       " ['X', 'S', 'A', 'M', 'M'],\n",
       " ['M', 'M', 'M', 'X'],\n",
       " ['A', 'S', 'M'],\n",
       " ['S', 'A'],\n",
       " ['M', 'S'],\n",
       " ['A', 'M', 'A'],\n",
       " ['S', 'A', 'M', 'M'],\n",
       " ['A', 'S', 'A', 'M', 'X'],\n",
       " ['M', 'M', 'X', 'S', 'X', 'A'],\n",
       " ['X', 'M', 'A', 'S', 'A', 'M', 'X'],\n",
       " ['M', 'M', 'A', 'X', 'A', 'M', 'M', 'M'],\n",
       " ['A', 'M', 'S', 'X', 'X', 'S', 'A', 'M', 'X'],\n",
       " ['M', 'S', 'A', 'M', 'M', 'M', 'M', 'X', 'A', 'M'],\n",
       " ['S', 'M', 'A', 'S', 'A', 'M', 'S', 'A', 'M'],\n",
       " ['A', 'S', 'M', 'A', 'S', 'A', 'M', 'S'],\n",
       " ['M', 'M', 'X', 'M', 'A', 'X', 'S'],\n",
       " ['X', 'X', 'S', 'A', 'M', 'X'],\n",
       " ['X', 'M', 'X', 'S', 'X'],\n",
       " ['S', 'A', 'M', 'M'],\n",
       " ['M', 'S', 'A'],\n",
       " ['M', 'M'],\n",
       " ['M', 'M', 'M', 'S', 'X', 'X', 'M', 'A', 'S', 'M'],\n",
       " ['M', 'S', 'A', 'M', 'X', 'M', 'S', 'M', 'S', 'A'],\n",
       " ['A', 'M', 'X', 'S', 'X', 'M', 'A', 'A', 'M', 'M'],\n",
       " ['M', 'S', 'A', 'M', 'A', 'S', 'M', 'S', 'M', 'X'],\n",
       " ['X', 'M', 'A', 'S', 'A', 'M', 'X', 'A', 'M', 'M'],\n",
       " ['X', 'X', 'A', 'M', 'M', 'X', 'X', 'A', 'M', 'A'],\n",
       " ['S', 'M', 'S', 'M', 'S', 'A', 'S', 'X', 'S', 'S'],\n",
       " ['S', 'A', 'X', 'A', 'M', 'A', 'S', 'A', 'A', 'A'],\n",
       " ['M', 'A', 'M', 'M', 'M', 'X', 'M', 'M', 'M', 'M'],\n",
       " ['M', 'X', 'M', 'X', 'A', 'X', 'M', 'A', 'S', 'X'],\n",
       " ['M', 'M', 'A', 'M', 'X', 'X', 'S', 'S', 'M', 'M'],\n",
       " ['M', 'S', 'M', 'S', 'M', 'X', 'M', 'A', 'A', 'X'],\n",
       " ['M', 'A', 'X', 'A', 'A', 'A', 'S', 'X', 'M', 'M'],\n",
       " ['S', 'M', 'S', 'M', 'S', 'M', 'M', 'A', 'M', 'X'],\n",
       " ['X', 'X', 'X', 'A', 'A', 'M', 'S', 'M', 'M', 'A'],\n",
       " ['X', 'M', 'M', 'S', 'M', 'X', 'A', 'A', 'X', 'X'],\n",
       " ['M', 'S', 'A', 'M', 'X', 'X', 'S', 'S', 'M', 'M'],\n",
       " ['A', 'M', 'A', 'S', 'A', 'A', 'X', 'A', 'M', 'A'],\n",
       " ['S', 'S', 'M', 'M', 'M', 'M', 'S', 'A', 'M', 'S'],\n",
       " ['M', 'A', 'M', 'X', 'M', 'A', 'S', 'A', 'M', 'X']]"
      ]
     },
     "execution_count": 16,
     "metadata": {},
     "output_type": "execute_result"
    }
   ],
   "source": [
    "data = diagonals + grid + columns\n",
    "data"
   ]
  },
  {
   "cell_type": "code",
   "execution_count": 19,
   "metadata": {},
   "outputs": [],
   "source": [
    "def part1(data):\n",
    "    count = 0\n",
    "    for line in data:\n",
    "        line = ''.join(line)\n",
    "        count += line.count('XMAS')\n",
    "        count += line.count('SAMX')\n",
    "    return count\n"
   ]
  },
  {
   "cell_type": "code",
   "execution_count": 22,
   "metadata": {},
   "outputs": [
    {
     "data": {
      "text/plain": [
       "2573"
      ]
     },
     "execution_count": 22,
     "metadata": {},
     "output_type": "execute_result"
    }
   ],
   "source": [
    "grid = read_file('data/day04.txt')\n",
    "diagonals = get_all_diagonals(grid)\n",
    "columns = list(map(list, zip(*grid)))\n",
    "data = diagonals + grid + columns\n",
    "part1(data)"
   ]
  },
  {
   "cell_type": "code",
   "execution_count": null,
   "metadata": {},
   "outputs": [],
   "source": []
  }
 ],
 "metadata": {
  "kernelspec": {
   "display_name": ".venv",
   "language": "python",
   "name": "python3"
  },
  "language_info": {
   "codemirror_mode": {
    "name": "ipython",
    "version": 3
   },
   "file_extension": ".py",
   "mimetype": "text/x-python",
   "name": "python",
   "nbconvert_exporter": "python",
   "pygments_lexer": "ipython3",
   "version": "3.12.5"
  }
 },
 "nbformat": 4,
 "nbformat_minor": 2
}
