{
 "cells": [
  {
   "cell_type": "code",
   "execution_count": 1,
   "metadata": {},
   "outputs": [],
   "source": [
    "def is_allways_inc_or_dec(seq):\n",
    "    dec = all(seq[i] < seq[i+1] for i in range(len(seq)-1))\n",
    "    inc = all(seq[i] > seq[i+1] for i in range(len(seq)-1))\n",
    "    return dec or inc"
   ]
  },
  {
   "cell_type": "code",
   "execution_count": 2,
   "metadata": {},
   "outputs": [],
   "source": [
    "def is_small_delta(seq):\n",
    "    return all(abs(seq[i] - seq[i+1]) <= 3 for i in range(len(seq)-1))"
   ]
  },
  {
   "cell_type": "code",
   "execution_count": 6,
   "metadata": {},
   "outputs": [],
   "source": [
    "def part1(filename):\n",
    "    reports = []\n",
    "\n",
    "    with open(filename) as f:\n",
    "        data = f.read().strip().splitlines()\n",
    "\n",
    "    for line in data:\n",
    "        values = [int(x) for x in line.split(' ')]\n",
    "\n",
    "        if is_allways_inc_or_dec(values) and is_small_delta(values):\n",
    "            reports.append('save')\n",
    "        else:\n",
    "            reports.append('unsave')\n",
    "\n",
    "    return reports.count('save')"
   ]
  },
  {
   "cell_type": "code",
   "execution_count": 8,
   "metadata": {},
   "outputs": [
    {
     "data": {
      "text/plain": [
       "359"
      ]
     },
     "execution_count": 8,
     "metadata": {},
     "output_type": "execute_result"
    }
   ],
   "source": [
    "part1('data/day02.txt')"
   ]
  },
  {
   "cell_type": "markdown",
   "metadata": {},
   "source": [
    "## Part 2"
   ]
  },
  {
   "cell_type": "code",
   "execution_count": 9,
   "metadata": {},
   "outputs": [],
   "source": [
    "def check_with_removal(seq):\n",
    "    if is_allways_inc_or_dec(seq) and is_small_delta(seq):\n",
    "        return True\n",
    "    \n",
    "    for i in range(len(seq)):\n",
    "        shorted = seq[:i] + seq[i+1:]\n",
    "        if is_allways_inc_or_dec(shorted) and is_small_delta(shorted):\n",
    "            return True\n",
    "    return False"
   ]
  },
  {
   "cell_type": "code",
   "execution_count": 11,
   "metadata": {},
   "outputs": [],
   "source": [
    "def part2(filename):\n",
    "    reports = []\n",
    "\n",
    "    with open(filename) as f:\n",
    "        data = f.read().strip().splitlines()\n",
    "\n",
    "    for line in data:\n",
    "        values = [int(x) for x in line.split(' ')]\n",
    "\n",
    "        if check_with_removal(values):\n",
    "            reports.append('save')\n",
    "        else:\n",
    "            reports.append('unsave')\n",
    "\n",
    "    return reports.count('save')"
   ]
  },
  {
   "cell_type": "code",
   "execution_count": 13,
   "metadata": {},
   "outputs": [
    {
     "data": {
      "text/plain": [
       "418"
      ]
     },
     "execution_count": 13,
     "metadata": {},
     "output_type": "execute_result"
    }
   ],
   "source": [
    "part2('data/day02.txt')"
   ]
  },
  {
   "cell_type": "code",
   "execution_count": null,
   "metadata": {},
   "outputs": [],
   "source": []
  }
 ],
 "metadata": {
  "kernelspec": {
   "display_name": ".venv",
   "language": "python",
   "name": "python3"
  },
  "language_info": {
   "codemirror_mode": {
    "name": "ipython",
    "version": 3
   },
   "file_extension": ".py",
   "mimetype": "text/x-python",
   "name": "python",
   "nbconvert_exporter": "python",
   "pygments_lexer": "ipython3",
   "version": "3.12.5"
  }
 },
 "nbformat": 4,
 "nbformat_minor": 2
}
